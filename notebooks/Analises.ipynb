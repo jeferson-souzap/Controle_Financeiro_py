{
 "cells": [
  {
   "cell_type": "code",
   "execution_count": 1,
   "id": "18ce73ec",
   "metadata": {},
   "outputs": [],
   "source": [
    "import streamlit as st\n",
    "import sqlite3\n",
    "\n",
    "local_banco = r'D:\\#Mega\\Jeferson - Dev\\02 - Linguagens\\Python\\Controle_Financeiro_py\\dados\\controle.db'\n",
    "\n"
   ]
  },
  {
   "cell_type": "code",
   "execution_count": 27,
   "id": "c2ab679a",
   "metadata": {},
   "outputs": [
    {
     "data": {
      "text/plain": [
       "[('Compras', 'saida'),\n",
       " ('Gasolina', 'saida'),\n",
       " ('Mercado', 'saida'),\n",
       " ('Saúde', 'saida'),\n",
       " ('Faculdade', 'saida'),\n",
       " ('Água', 'saida'),\n",
       " ('Luz', 'saida'),\n",
       " ('Cartão Itau', 'saida'),\n",
       " ('Cartão will', 'saida'),\n",
       " ('Fácil 02', 'saida'),\n",
       " ('ssss', 'saida')]"
      ]
     },
     "execution_count": 27,
     "metadata": {},
     "output_type": "execute_result"
    }
   ],
   "source": [
    "\n",
    "conn = sqlite3.connect(local_banco)\n",
    "cursor = conn.cursor()\n",
    "cursor.execute(\"SELECT nome, tipo FROM categoria\")\n",
    "categorias = cursor.fetchall()\n",
    "conn.close()\n",
    "#categorias\n",
    "[categoria[0:2] for categoria in categorias]  # Retorna uma lista de nomes\n"
   ]
  }
 ],
 "metadata": {
  "kernelspec": {
   "display_name": "Python 3",
   "language": "python",
   "name": "python3"
  },
  "language_info": {
   "codemirror_mode": {
    "name": "ipython",
    "version": 3
   },
   "file_extension": ".py",
   "mimetype": "text/x-python",
   "name": "python",
   "nbconvert_exporter": "python",
   "pygments_lexer": "ipython3",
   "version": "3.11.5"
  }
 },
 "nbformat": 4,
 "nbformat_minor": 5
}
